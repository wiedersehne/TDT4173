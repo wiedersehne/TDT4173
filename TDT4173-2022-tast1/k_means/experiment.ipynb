{
 "cells": [
  {
   "cell_type": "markdown",
   "id": "32e7e801-6798-47b9-b8d3-4cc19854c561",
   "metadata": {},
   "source": [
    "# K-Means\n",
    "\n",
    "For this problem, you will be implementing the K-Means algorithm. This is an unsupervised learning algorithm for clustering problems. That is, its objective is to produce a partitioning over a dataset without (explicit) external supervision of which group each datapoint should belong to.\n",
    "\n",
    "Your initial implementation should be a standard K-means algorithm with Euclidean distance metric. A concise description can be found in [Andrew NG's lecture notes on K-Means](http://cs229.stanford.edu/notes2020spring/cs229-notes7a.pdf). The first part of Chapter 9 of _Pattern Recognition and Machine Learning_ by Christopher M. Bishop also gives a good overview of the algorithm, as well as its connection to the Expection Maximization (EM) algorithm.\n",
    "\n",
    "We have provided some skeleton code for the classifier, along with a couple of utility functions in the [k_means.py](./k_means.py) module. Please fill out the functions marked with `TODO` and feel free to add extra constructor arguments as you see fit (just make sure the default constructor solves the first dataset)."
   ]
  },
  {
   "cell_type": "code",
   "execution_count": null,
   "id": "b25e032d-f153-48a2-b37e-9abf6efb8598",
   "metadata": {},
   "outputs": [],
   "source": [
    "%load_ext autoreload"
   ]
  },
  {
   "cell_type": "markdown",
   "id": "fcca73f0-f254-4754-b31e-b2e10cbe4595",
   "metadata": {},
   "source": [
    "We begin by loading necessary packages. Below follows a short description of the imported modules:\n",
    "\n",
    "- `numpy` is the defacto python package for numerical calculation. Most other numerical libraries (including pandas) is based on numpy.\n",
    "- `pandas` is a widely used package for manipulating (mostly) tabular data\n",
    "- `matplotlib` is the most used plotting library for python\n",
    "- `seaborn` contains several convience functions for matplotlib and integrates very well with pandas\n",
    "- `k_means` refers to the module in this folder that should be further implemented by you.\n",
    "\n",
    "Note: The `%autoreload` statement is an [IPython magic command](https://ipython.readthedocs.io/en/stable/interactive/magics.html) that automatically reloads the newest version of all imported modules within the cell. This means that you can edit the `k_means.py` file and just rerun this cell to get the updated version."
   ]
  },
  {
   "cell_type": "code",
   "execution_count": null,
   "id": "a91f8e00-be6b-494b-898e-9f8874dcfa14",
   "metadata": {},
   "outputs": [],
   "source": [
    "%autoreload\n",
    "\n",
    "import numpy as np \n",
    "import pandas as pd \n",
    "import matplotlib.pyplot as plt \n",
    "import seaborn as sns \n",
    "import k_means as km # <-- Your implementation\n",
    "\n",
    "sns.set_style('darkgrid')"
   ]
  },
  {
   "cell_type": "markdown",
   "id": "64a260f7-269e-4923-aadc-2c9807a5cb6c",
   "metadata": {},
   "source": [
    "## [1] First Dataset\n",
    "\n",
    "The first dataset is a simple problem that is well suited for K-Means. It consists of 500 datapoints ($x_0, x_1 \\in \\mathbb{R}$) that should be partitioned into two clusters.\n",
    "\n",
    "### [1.1] Load Data\n",
    "\n",
    "We begin by loading data from a .csv file located in the same folder as this notebook."
   ]
  },
  {
   "cell_type": "code",
   "execution_count": null,
   "id": "8ea28335-67a1-43e5-8792-5519a14de46a",
   "metadata": {},
   "outputs": [],
   "source": [
    "data_1 = pd.read_csv('data_1.csv')\n",
    "data_1.describe().T"
   ]
  },
  {
   "cell_type": "markdown",
   "id": "3a6fa22b-1ec2-48b0-8a87-0d7953340cb4",
   "metadata": {},
   "source": [
    "### [1.2] Visualize\n",
    "\n",
    "Since the data is 2-dimensional, it lends itself nicely to visualization with a scatter plot. From this, it should be evident what a sensible clustering should look like."
   ]
  },
  {
   "cell_type": "code",
   "execution_count": null,
   "id": "6e17d8fd-96a3-4c94-aebe-81558bd9bd96",
   "metadata": {},
   "outputs": [],
   "source": [
    "plt.figure(figsize=(5, 5))\n",
    "sns.scatterplot(x='x0', y='x1', data=data_1)\n",
    "plt.xlim(0, 1); plt.ylim(0, 1);"
   ]
  },
  {
   "cell_type": "markdown",
   "id": "628ef085-c25c-4055-b398-412abd4a4b2d",
   "metadata": {},
   "source": [
    "### [1.3] Fit and Evaluate\n",
    "\n",
    "Next we fit and evaluate your K-Means clustering model over the dataset. It should work with the default constructor, but it is perfectly fine if you make the default constructor configure the algorithm for two centroids. \n",
    "\n",
    "We will quantitatively evaluate the solution according to _distortion_ and the _silhouette score_ (both assuming a euclidean distance metric).\n",
    "\n",
    "- The distortion measure is equal to the sum of squared distances between each point and the centroid it is assigned to. It favors cohesive clusters, i.e. clusters where all points are close to their centroids, and is used as a minimization objective by K-Means.\n",
    "\n",
    "- The [silhouette score](https://en.wikipedia.org/wiki/Silhouette_(clustering) measures both cluster cohesion and separation. I.e., it also accounts for to what degree each cluster is isolated from other clusters. It takes on values in the range (-1, 1) and is subject to maximization.\n",
    "\n",
    "Note that `.fit`, `.predict`, and `.get_centroids` will crash until you implement these two methods in [k_means.py](./k_means.py). The `.get_centroids` method is used fetch the cluster centroids which are visualized as stars in the figure.\n",
    "\n",
    "Assuming a standard implementation of K-means, you should expect to get a sihouette score of ~0.67 and a distortion measure of ~8.8. You can also verify that everything is working as it should by inspecting the generated figure. A working algorithm should generate centroids such that all the points with $x_0 < 0.5$ (approximately) are assigned to one cluster and the remaining are assigned to the other."
   ]
  },
  {
   "cell_type": "code",
   "execution_count": null,
   "id": "5675bac5-134f-4308-9453-704bd5a36f5d",
   "metadata": {},
   "outputs": [],
   "source": [
    "# Fit Model \n",
    "X = data_1[['x0', 'x1']]\n",
    "model_1 = km.KMeans() # <-- Should work with default constructor  \n",
    "model_1.fit(X)\n",
    "\n",
    "# Compute Silhouette Score \n",
    "z = model_1.predict(X)\n",
    "print(f'Silhouette Score: {km.euclidean_silhouette(X, z) :.3f}')\n",
    "print(f'Distortion: {km.euclidean_distortion(X, z) :.3f}')\n",
    "\n",
    "# Plot cluster assignments\n",
    "C = model_1.get_centroids()\n",
    "K = len(C)\n",
    "_, ax = plt.subplots(figsize=(5, 5), dpi=100)\n",
    "sns.scatterplot(x='x0', y='x1', hue=z, hue_order=range(K), palette='tab10', data=X, ax=ax);\n",
    "sns.scatterplot(x=C[:,0], y=C[:,1], hue=range(K), palette='tab10', marker='*', s=250, edgecolor='black', ax=ax)\n",
    "ax.legend().remove();"
   ]
  },
  {
   "cell_type": "markdown",
   "id": "19bb79ec-1e78-4235-b4dd-0a444aa8e8e8",
   "metadata": {},
   "source": [
    "## [2] Second Dataset\n",
    "\n",
    "The second dataset is superficially similar to the first one. The goal is still to partition a two-dimensional dataset into mutually exlusive groups, but it is designed to be a bit more challenging.\n",
    "\n",
    "### [2.1] Load Data\n",
    "\n",
    "This dataset can also be found in a .csv file in the same folder as this notebook."
   ]
  },
  {
   "cell_type": "code",
   "execution_count": null,
   "id": "953b2417-65bf-48df-9182-d4e141e93721",
   "metadata": {},
   "outputs": [],
   "source": [
    "data_2 = pd.read_csv('data_2.csv')\n",
    "data_2.describe().T"
   ]
  },
  {
   "cell_type": "markdown",
   "id": "a2fdcabb-8c02-4389-b765-025febcab371",
   "metadata": {},
   "source": [
    "### [2.2] Visualize Data\n",
    "\n",
    "As can be seen, there are substantially more clusters in this dataset. We generated a total of 10 clusters that your algorithm should be able to identify. It is ok if you pass information about the number of clusters to your model during instantiation, but it should be able to initialize itself and identify a good clustering without any external information."
   ]
  },
  {
   "cell_type": "code",
   "execution_count": null,
   "id": "4350d2eb-b2ba-4f7a-8bcb-5cb99907d022",
   "metadata": {},
   "outputs": [],
   "source": [
    "plt.figure(figsize=(5, 5))\n",
    "sns.scatterplot(x='x0', y='x1', data=data_2);"
   ]
  },
  {
   "cell_type": "markdown",
   "id": "8199d250-fa6a-47d3-b5d4-779fe517794a",
   "metadata": {},
   "source": [
    "### [2.3] Fit and Evaluate\n",
    "\n",
    "Again, we fit the model to the data, measure distortion and silhouette score, and visualize the resulting clusters. You may experience that the algorithm you implemented for the first dataset fails to find all the clusters, at least consistently. \n",
    "\n",
    "Feel free to add extra functionality to the algorithm and/or the data preprocessing pipeline that improve performance. It might be useful to run the algorithm for one iteration at the time and plot the resulting clustering to get a better idea of what is going on. \n",
    "\n",
    "As a debugging reference; it should be possible to create an implementation that finds all the 10 clusters (at least) 9/10 times with randomized initialization. "
   ]
  },
  {
   "cell_type": "code",
   "execution_count": null,
   "id": "aff748f3-d64d-45af-a7aa-0c07a7c26dcc",
   "metadata": {},
   "outputs": [],
   "source": [
    "# Fit Model \n",
    "X = data_2[['x0', 'x1']]\n",
    "model_2 = km.KMeans()  # <-- Feel free to add hyperparameters \n",
    "model_2.fit(X)\n",
    "\n",
    "# Compute Silhouette Score \n",
    "z = model_2.predict(X)\n",
    "print(f'Distortion: {km.euclidean_distortion(X, z) :.3f}')\n",
    "print(f'Silhouette Score: {km.euclidean_silhouette(X, z) :.3f}')\n",
    "\n",
    "# Plot cluster assignments\n",
    "C = model_2.get_centroids()\n",
    "K = len(C)\n",
    "_, ax = plt.subplots(figsize=(5, 5), dpi=100)\n",
    "sns.scatterplot(x='x0', y='x1', hue=z, hue_order=range(K), palette='tab10', data=X, ax=ax);\n",
    "sns.scatterplot(x=C[:,0], y=C[:,1], hue=range(K), palette='tab10', marker='*', s=250, edgecolor='black', ax=ax)\n",
    "ax.legend().remove();"
   ]
  },
  {
   "cell_type": "markdown",
   "id": "fada613d-337f-4938-85a7-47d65431ae04",
   "metadata": {},
   "source": [
    "## [3] Further Steps (optional)\n",
    "\n",
    "If you're done with the assignment but want to some more challenges; consider the following:\n",
    "\n",
    "- Modify your clustering algorithm so that the user no longer has to enter the number of clusters manually.\n",
    "- K-means makes hard cluster assignments. Try implementing the [EM-algorithm](https://en.wikipedia.org/wiki/Expectation–maximization_algorithm) to fit a gaussian mixture model to the data above.\n",
    "- Implement a clustering algorithm that solves the dataset below. "
   ]
  },
  {
   "cell_type": "code",
   "execution_count": null,
   "id": "353e3639-0313-4558-884c-70e6f12ea31c",
   "metadata": {},
   "outputs": [],
   "source": [
    "data_bonus = pd.read_csv('data_bonus.csv')\n",
    "plt.figure(figsize=(5, 5))\n",
    "sns.scatterplot(x='x0', y='x1', data=data_bonus);"
   ]
  }
 ],
 "metadata": {
  "kernelspec": {
   "display_name": "Python 3",
   "language": "python",
   "name": "python3"
  },
  "language_info": {
   "codemirror_mode": {
    "name": "ipython",
    "version": 3
   },
   "file_extension": ".py",
   "mimetype": "text/x-python",
   "name": "python",
   "nbconvert_exporter": "python",
   "pygments_lexer": "ipython3",
   "version": "3.8.7"
  }
 },
 "nbformat": 4,
 "nbformat_minor": 5
}
